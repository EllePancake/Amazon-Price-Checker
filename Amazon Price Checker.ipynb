{
 "cells": [
  {
   "cell_type": "code",
   "execution_count": 37,
   "id": "72a09e6d",
   "metadata": {},
   "outputs": [],
   "source": [
    "from bs4 import BeautifulSoup\n",
    "import requests\n",
    "import smtplib\n",
    "import time\n",
    "import datetime\n",
    "import csv \n",
    "import pandas as pd\n",
    "import re"
   ]
  },
  {
   "cell_type": "code",
   "execution_count": 48,
   "id": "66d06bb8",
   "metadata": {},
   "outputs": [],
   "source": [
    "def check_price():\n",
    "    URL = 'https://www.amazon.es/Purina-Felix-Gelatina-comida-gatos/dp/B08WSYSQVL?pd_rd_w=pcWWJ&content-id=amzn1.sym.39a0530e-cdee-46be-8da1-bcc874e212f9&pf_rd_p=39a0530e-cdee-46be-8da1-bcc874e212f9&pf_rd_r=YHPFHF515DR4CBEPVKPB&pd_rd_wg=F6zqN&pd_rd_r=2386a2f0-048a-4b81-9c8b-cca0061ac417&pd_rd_i=B08WSYSQVL&psc=1&ref_=pd_bap_d_grid_rp_0_1_ec_i'\n",
    "\n",
    "    headers = {\"User-Agent\": \"Mozilla/5.0 (Windows NT 10.0; Win64; x64) AppleWebKit/537.36 (KHTML, like Gecko) Chrome/113.0.0.0 Safari/537.36\", \n",
    "               \"Accept-Encoding\":\"gzip, deflate\", \n",
    "               \"Accept\":\"text/html,application/xhtml+xml,application/xml;q=0.9,*/*;q=0.8\", \n",
    "               \"DNT\":\"1\",\n",
    "               \"Connection\":\"close\", \n",
    "               \"Upgrade-Insecure-Requests\":\"1\"}\n",
    "\n",
    "    page = requests.get(URL, headers=headers)\n",
    "\n",
    "    soup1 = BeautifulSoup(page.content, \"html.parser\")\n",
    "\n",
    "    soup2 = BeautifulSoup(soup1.prettify(), \"html.parser\")\n",
    "\n",
    "    title = soup2.find(id='productTitle').get_text(strip=True)\n",
    "\n",
    "    price_element = soup2.find(id=\"sns-base-price\").get_text(strip=True)\n",
    "    price = price_element.strip()[:-1]\n",
    "\n",
    "    today = datetime.date.today()\n",
    "\n",
    "    header = ['Title', 'Price', 'Date']\n",
    "    data = [title, price, today]\n",
    "\n",
    "    with open('AmzScrape_catfood.csv', 'a+', newline='', encoding='UTF8') as f:\n",
    "        writer = csv.writer(f)\n",
    "        writer.writerow(data)\n",
    "    \n",
    "    price_to_send = re.sub(r'[^\\d.,]', '', price)\n",
    "    price_to_send = price_to_send.replace(',', '.')\n",
    "        \n",
    "    price_to_send = float(price_to_send)   \n",
    "    if price_to_send < 25:\n",
    "        send_mail()"
   ]
  },
  {
   "cell_type": "code",
   "execution_count": 56,
   "id": "55f44b9a",
   "metadata": {},
   "outputs": [],
   "source": [
    "def send_mail():\n",
    "    server = smtplib.SMTP_SSL('smtp.gmail.com',465)\n",
    "    server.ehlo()\n",
    "    server.ehlo()\n",
    "    server.login('myemail','password')\n",
    "    \n",
    "    subject = \"Olivia's favorite food is below 25! :O!\"\n",
    "    body = \"Don't pay full price for Olivia's food! Link here: https://www.amazon.es/Purina-Felix-Gelatina-comida-gatos/dp/B08WSYSQVL?pd_rd_w=pcWWJ&content-id=amzn1.sym.39a0530e-cdee-46be-8da1-bcc874e212f9&pf_rd_p=39a0530e-cdee-46be-8da1-bcc874e212f9&pf_rd_r=YHPFHF515DR4CBEPVKPB&pd_rd_wg=F6zqN&pd_rd_r=2386a2f0-048a-4b81-9c8b-cca0061ac417&pd_rd_i=B08WSYSQVL&psc=1&ref_=pd_bap_d_grid_rp_0_1_ec_i\"\n",
    "   \n",
    "    msg = f\"Subject: {subject}\\n\\n{body}\"\n",
    "    \n",
    "    server.sendmail(\n",
    "        'myemail@gmail.com',\n",
    "        'myemail@gmail.com',\n",
    "        msg\n",
    "     \n",
    "    )"
   ]
  },
  {
   "cell_type": "code",
   "execution_count": null,
   "id": "11a7b918",
   "metadata": {},
   "outputs": [],
   "source": [
    "while(True):\n",
    "    check_price()\n",
    "    time.sleep(86400)"
   ]
  }
 ],
 "metadata": {
  "kernelspec": {
   "display_name": "Python 3 (ipykernel)",
   "language": "python",
   "name": "python3"
  },
  "language_info": {
   "codemirror_mode": {
    "name": "ipython",
    "version": 3
   },
   "file_extension": ".py",
   "mimetype": "text/x-python",
   "name": "python",
   "nbconvert_exporter": "python",
   "pygments_lexer": "ipython3",
   "version": "3.10.6"
  }
 },
 "nbformat": 4,
 "nbformat_minor": 5
}
